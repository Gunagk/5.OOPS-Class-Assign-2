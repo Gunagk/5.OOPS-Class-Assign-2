{
 "cells": [
  {
   "cell_type": "code",
   "execution_count": 10,
   "id": "ff055c5f",
   "metadata": {},
   "outputs": [],
   "source": [
    "from AssignCopy import  Multiplefunctions"
   ]
  },
  {
   "cell_type": "code",
   "execution_count": 11,
   "id": "fe30337a",
   "metadata": {},
   "outputs": [
    {
     "name": "stdout",
     "output_type": "stream",
     "text": [
      "Sub-fields in AI are:\n",
      "Machine Learning\n",
      "Neural Network\n",
      "Vision\n",
      "Robotics\n",
      "Speech Processing\n",
      "Natural Language Processing\n"
     ]
    }
   ],
   "source": [
    "print(\"Sub-fields in AI are:\")\n",
    "Multiplefunctions.subfields()"
   ]
  },
  {
   "cell_type": "code",
   "execution_count": 7,
   "id": "10c60c33",
   "metadata": {},
   "outputs": [],
   "source": [
    "#Create a function that checks whether the given number is  Odd or Even"
   ]
  },
  {
   "cell_type": "code",
   "execution_count": 12,
   "id": "91c3407d",
   "metadata": {},
   "outputs": [
    {
     "name": "stdout",
     "output_type": "stream",
     "text": [
      "Enter a number:52452\n",
      "52452 is Even number\n"
     ]
    }
   ],
   "source": [
    "Multiplefunctions.OddEven()"
   ]
  },
  {
   "cell_type": "code",
   "execution_count": 10,
   "id": "9921d261",
   "metadata": {},
   "outputs": [],
   "source": [
    "#Age elegibility for Male & Female"
   ]
  },
  {
   "cell_type": "code",
   "execution_count": 14,
   "id": "a6166748",
   "metadata": {
    "scrolled": false
   },
   "outputs": [
    {
     "name": "stdout",
     "output_type": "stream",
     "text": [
      "Your Gender:Male\n",
      "Your Age:24\n",
      "Elegibile\n"
     ]
    }
   ],
   "source": [
    " Multiplefunctions.elegibility()"
   ]
  },
  {
   "cell_type": "code",
   "execution_count": 13,
   "id": "347e92e4",
   "metadata": {},
   "outputs": [],
   "source": [
    "#Percentage for 10th mark"
   ]
  },
  {
   "cell_type": "code",
   "execution_count": 4,
   "id": "e76c7611",
   "metadata": {
    "scrolled": false
   },
   "outputs": [
    {
     "name": "stdout",
     "output_type": "stream",
     "text": [
      "sub1=98\n",
      "sub2=87\n",
      "sub3=95\n",
      "sub4=95\n",
      "sub5=93\n",
      "Total: 468\n",
      "percentage: 93.60000000000001\n"
     ]
    }
   ],
   "source": [
    "Multiplefunctions.percentage()"
   ]
  },
  {
   "cell_type": "code",
   "execution_count": 49,
   "id": "e0fe576f",
   "metadata": {},
   "outputs": [],
   "source": [
    "#print area and perimeter of triangle using class and functions"
   ]
  },
  {
   "cell_type": "code",
   "execution_count": 13,
   "id": "ad0acdbe",
   "metadata": {},
   "outputs": [
    {
     "name": "stdout",
     "output_type": "stream",
     "text": [
      "Height:32\n",
      "Breadth:34\n",
      "Area formula:(Height*Breadth)/2\n",
      "Area of Triangle 544.0\n",
      "Height1:2\n",
      "Height2:4\n",
      "Breadth:4\n",
      "Perimeter formula:Height1+Height2+Breadth\n",
      "Perimeter of Triangle 10\n"
     ]
    }
   ],
   "source": [
    "Multiplefunctions.Triangle()"
   ]
  },
  {
   "cell_type": "code",
   "execution_count": null,
   "id": "13e8fed4",
   "metadata": {},
   "outputs": [],
   "source": []
  }
 ],
 "metadata": {
  "kernelspec": {
   "display_name": "Python 3 (ipykernel)",
   "language": "python",
   "name": "python3"
  },
  "language_info": {
   "codemirror_mode": {
    "name": "ipython",
    "version": 3
   },
   "file_extension": ".py",
   "mimetype": "text/x-python",
   "name": "python",
   "nbconvert_exporter": "python",
   "pygments_lexer": "ipython3",
   "version": "3.11.5"
  }
 },
 "nbformat": 4,
 "nbformat_minor": 5
}
